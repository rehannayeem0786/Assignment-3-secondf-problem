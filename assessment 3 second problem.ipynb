{
 "cells": [
  {
   "cell_type": "code",
   "execution_count": 10,
   "id": "d37962d0",
   "metadata": {},
   "outputs": [
    {
     "name": "stdout",
     "output_type": "stream",
     "text": [
      "Enter any string of your choice :- 1234abcd\n",
      "dcba4321"
     ]
    }
   ],
   "source": [
    "def reverse_of_string(sample_string):\n",
    "    for i in reversed(sample_string):   \n",
    "        print(i, end=\"\")\n",
    "sample_string = input(\"Enter any string of your choice :- \")      \n",
    "reverse_of_string(sample_string)"
   ]
  },
  {
   "cell_type": "code",
   "execution_count": null,
   "id": "efe2fd86",
   "metadata": {},
   "outputs": [],
   "source": []
  },
  {
   "cell_type": "code",
   "execution_count": null,
   "id": "38ab948c",
   "metadata": {},
   "outputs": [],
   "source": []
  }
 ],
 "metadata": {
  "kernelspec": {
   "display_name": "Python 3 (ipykernel)",
   "language": "python",
   "name": "python3"
  },
  "language_info": {
   "codemirror_mode": {
    "name": "ipython",
    "version": 3
   },
   "file_extension": ".py",
   "mimetype": "text/x-python",
   "name": "python",
   "nbconvert_exporter": "python",
   "pygments_lexer": "ipython3",
   "version": "3.10.9"
  }
 },
 "nbformat": 4,
 "nbformat_minor": 5
}
